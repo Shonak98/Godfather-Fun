{
 "cells": [
  {
   "cell_type": "code",
   "execution_count": 1,
   "metadata": {},
   "outputs": [],
   "source": [
    "### general cleaning\n",
    "import numpy as np\n",
    "import pandas as pd\n",
    "import re\n",
    "\n",
    "### Used to pull script from url\n",
    "from bs4 import BeautifulSoup\n",
    "import requests\n",
    "import json"
   ]
  },
  {
   "cell_type": "code",
   "execution_count": 2,
   "metadata": {},
   "outputs": [],
   "source": [
    "### url of godfather 1\n",
    "url_gf1 = \"http://www.thegodfathertrilogy.com/gf1/transcript/gf1transcript.html\"\n",
    "page_source = requests.get(url_gf1) ### get page's contents\n",
    "page_soup = BeautifulSoup(page_source.content, 'html.parser')"
   ]
  },
  {
   "cell_type": "code",
   "execution_count": 3,
   "metadata": {},
   "outputs": [],
   "source": [
    "### goes through the html contents and finds blockquote markers that indicate script text\n",
    "text_block = page_soup.findAll('blockquote', class_ = '')\n",
    "text_lst = []\n",
    "for item in text_block:\n",
    "    text_lst = item.text.split('\\n')\n",
    "\n",
    "text_lst = [x for x in text_lst if x != ''] #gets rid of empty string elements"
   ]
  },
  {
   "cell_type": "code",
   "execution_count": 5,
   "metadata": {},
   "outputs": [],
   "source": [
    "for index in range(len(text_lst)):\n",
    "    quote = text_lst[index]\n",
    "    if ('Fabrizio' == quote.strip()) | ('Fabrizio (' in quote):\n",
    "        text_lst[index] = 'Fabrizio'.upper() + quote.strip()[8:]"
   ]
  },
  {
   "cell_type": "code",
   "execution_count": null,
   "metadata": {},
   "outputs": [],
   "source": []
  },
  {
   "cell_type": "code",
   "execution_count": 24,
   "metadata": {},
   "outputs": [],
   "source": [
    "# transcript_lst = text_lst[1:-14] #starting from 1 to -14 w/ \\n in split\n",
    "# joined = ' '.join(transcript_lst) #spaces between joined parts of arrays\n",
    "# joined = joined.replace('  ', ' ') #replaces double space with single\n",
    "\n",
    "# split_joined = joined.split()"
   ]
  },
  {
   "cell_type": "code",
   "execution_count": 12,
   "metadata": {},
   "outputs": [
    {
     "ename": "SyntaxError",
     "evalue": "invalid syntax (<ipython-input-12-fb5837d15e9f>, line 1)",
     "output_type": "error",
     "traceback": [
      "\u001b[1;36m  File \u001b[1;32m\"<ipython-input-12-fb5837d15e9f>\"\u001b[1;36m, line \u001b[1;32m1\u001b[0m\n\u001b[1;33m    smaller = text_lst[True for i in text_lst if ('Fabrizio'== i) else False]\u001b[0m\n\u001b[1;37m                              ^\u001b[0m\n\u001b[1;31mSyntaxError\u001b[0m\u001b[1;31m:\u001b[0m invalid syntax\n"
     ]
    }
   ],
   "source": [
    "smaller = text_lst[True for i in text_lst if ('Fabrizio'== i) else False]\n",
    "smaller"
   ]
  },
  {
   "cell_type": "code",
   "execution_count": 15,
   "metadata": {},
   "outputs": [
    {
     "data": {
      "text/plain": [
       "35"
      ]
     },
     "execution_count": 15,
     "metadata": {},
     "output_type": "execute_result"
    }
   ],
   "source": [
    "len(np.array(text_lst)[[index for index,quote in enumerate(text_lst) if ('Fabrizio'.upper() in quote)]])"
   ]
  },
  {
   "cell_type": "code",
   "execution_count": null,
   "metadata": {},
   "outputs": [],
   "source": []
  }
 ],
 "metadata": {
  "kernelspec": {
   "display_name": "Python 3",
   "language": "python",
   "name": "python3"
  },
  "language_info": {
   "codemirror_mode": {
    "name": "ipython",
    "version": 3
   },
   "file_extension": ".py",
   "mimetype": "text/x-python",
   "name": "python",
   "nbconvert_exporter": "python",
   "pygments_lexer": "ipython3",
   "version": "3.6.2"
  }
 },
 "nbformat": 4,
 "nbformat_minor": 2
}
