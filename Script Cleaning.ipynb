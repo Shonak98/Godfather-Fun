{
 "cells": [
  {
   "cell_type": "code",
   "execution_count": 1,
   "metadata": {},
   "outputs": [],
   "source": [
    "### general cleaning\n",
    "import numpy as np\n",
    "import pandas as pd\n",
    "\n",
    "### Used to pull script from url\n",
    "from bs4 import BeautifulSoup\n",
    "import requests\n",
    "import json\n",
    "\n",
    "pd.set_option('display.max_colwidth', -1)\n",
    "pd.set_option(\"display.max_rows\",1500)"
   ]
  },
  {
   "cell_type": "code",
   "execution_count": 2,
   "metadata": {},
   "outputs": [],
   "source": [
    "### url of godfather 1\n",
    "# url_gf1 = \"http://www.thegodfathertrilogy.com/gf1/transcript/gf1transcript.html\"\n",
    "# page_source = requests.get(url_gf1) ### get page's contents\n",
    "# page_soup = BeautifulSoup(page_source.content, 'html.parser')"
   ]
  },
  {
   "cell_type": "code",
   "execution_count": 3,
   "metadata": {},
   "outputs": [],
   "source": [
    "# ### goes through the html contents and finds blockquote markers that indicate script text\n",
    "# text_block = page_soup.findAll('blockquote', class_ = '')\n",
    "# text_lst = []\n",
    "# for item in text_block:\n",
    "#     text_lst = item.text.split('\\n')\n",
    "\n",
    "# text_lst = [x for x in text_lst if x != ''] #gets rid of empty string elements\n",
    "\n",
    "# import json\n",
    "# with open('data.json', 'w') as f:\n",
    "#     json.dump(text_lst, f)"
   ]
  },
  {
   "cell_type": "code",
   "execution_count": 4,
   "metadata": {},
   "outputs": [],
   "source": [
    "text_lst = list(pd.read_json('data.json')[0])"
   ]
  },
  {
   "cell_type": "code",
   "execution_count": 5,
   "metadata": {},
   "outputs": [],
   "source": [
    "### source has all names in uppercase when speaking except Fabrizio so for loop makes it simpler\n",
    "for index in range(len(text_lst)):\n",
    "    quote = text_lst[index]\n",
    "    if ('Fabrizio' == quote.strip()) | ('Fabrizio (' in quote):\n",
    "        text_lst[index] = 'Fabrizio'.upper() + quote.strip()[8:]\n",
    "        if 'translates' in text_lst[index]:\n",
    "            text_lst[index] = text_lst[index][:text_lst[index].find(' ')] + ' (translates)'\n",
    "        elif '(' in text_lst[index]:\n",
    "            text_lst[index] = text_lst[index][:text_lst[index].find(' ')]\n",
    "    \n",
    "    if ('CAPTAIN' in quote):\n",
    "        text_lst[index] = text_lst[index].replace('CAPTAIN', '')\n",
    "                     \n",
    "    if ('MURDERED' in quote)| ('EPIC' in quote) | ('SAGA' in quote)|\\\n",
    "        ('TRILOGY' in quote): # changes headline to lowercase to keep it part of text\n",
    "        text_lst[index] = text_lst[index].lower()"
   ]
  },
  {
   "cell_type": "code",
   "execution_count": 6,
   "metadata": {},
   "outputs": [],
   "source": [
    "transcript_lst = text_lst[1:-14] #starting from 1 to -14 w/ \\n in split\n",
    "joined = ' '.join(transcript_lst) #spaces between joined parts of arrays\n",
    "joined = joined.replace('  ', ' ') #replaces double space with single\n",
    "\n",
    "split_joined = joined.split()"
   ]
  },
  {
   "cell_type": "code",
   "execution_count": 7,
   "metadata": {},
   "outputs": [],
   "source": [
    "all_name_split = []\n",
    "string_line = ''\n",
    "string_name = ''\n",
    "i=0\n",
    "while i in range(len(split_joined)-1):\n",
    "    item = split_joined[i]\n",
    "\n",
    "    if ((item.isupper() == True) or (item=='McCLUSKEY')) & (item!='I') \\\n",
    "        & (item!='I,') & (item!='--I') & (item!='A') & (item!='J') \\\n",
    "        & (item!='FBI') & ('NO!' not in item) & ('G.I.' not in item) \\\n",
    "        & ('\\\"I' not in item) & ('[A' not in item) & (item!='TRILOGY') \\\n",
    "        & (item.find('SAGA') == -1) & (item!='&') & ('OS' not in item) \\\n",
    "        & (item!= 'E') & (item!='E.') & (item!='L.A') & (item!='SCRAM!') \\\n",
    "        & (item!='WOP') & (item!='J.'):\n",
    "        all_name_split.append(string_line)\n",
    "        string_name = string_name + ' '+ item\n",
    "        string_line = ''\n",
    "\n",
    "    else:\n",
    "        string_line = string_line + ' ' + item\n",
    "        all_name_split.append(string_name)\n",
    "        string_name = ''\n",
    "    i+=1\n",
    "    if (i == (len(split_joined))-1):\n",
    "            all_name_split.append(string_line)\n",
    "            all_name_split.append(item)\n",
    "\n",
    "all_name_split = [x for x in all_name_split if x != '']"
   ]
  },
  {
   "cell_type": "code",
   "execution_count": 8,
   "metadata": {},
   "outputs": [],
   "source": [
    "name_dialogue = []\n",
    "i = 0\n",
    "\n",
    "df = pd.DataFrame(columns = ['Role', 'Line'])\n",
    "while i in range(len(all_name_split)-1):\n",
    "    name_dialogue.append(all_name_split[i]+all_name_split[i+1])\n",
    "    if 'Transcribed' in all_name_split[i+1]:\n",
    "        temp = all_name_split[i+1]\n",
    "        all_name_split[i+1] = temp[:temp.find('Transcribed')]\n",
    "    elif '{' in all_name_split[i+1]:\n",
    "        temp = all_name_split[i+1]\n",
    "        all_name_split[i+1] = temp[:temp.find('{')]\n",
    "    elif 'educational' in all_name_split[i+1]:\n",
    "        temp = all_name_split[i+1]\n",
    "        all_name_split[i+1] = temp[:temp.find('This')]\n",
    "    df= df.append({'Role':all_name_split[i],'Line':all_name_split[i+1] }, ignore_index= True)\n",
    "\n",
    "    i+=2\n",
    "\n",
    "df= df.append({'Role':'THE END', 'Line':''}, ignore_index= True)"
   ]
  },
  {
   "cell_type": "code",
   "execution_count": 9,
   "metadata": {
    "scrolled": true
   },
   "outputs": [],
   "source": [
    "new_quote = []\n",
    "for index,quote in enumerate(df['Line']):\n",
    "        if '[In Italian: ' in quote:\n",
    "            bracket_start = quote.find('[In Italian: ')\n",
    "            bracket_end = quote.find(']', bracket_start+ 13)\n",
    "            quote = quote[:bracket_start] + quote[bracket_start+13:bracket_end] + quote[bracket_end+1:]\n",
    "            \n",
    "        if '[In Latin, ' in quote:\n",
    "            bracket_start = quote.find('[In Latin, ')\n",
    "            bracket_end = quote.find(']', bracket_start+ 11)\n",
    "            quote = quote[:bracket_start] + quote[bracket_start+11:bracket_end] + quote[bracket_end+1:]\n",
    "  \n",
    "        if 'in Italian: ' in quote:\n",
    "            bracket_start = quote.find('in Italian: ')\n",
    "            bracket_end = quote.find(']', bracket_start+ 12)\n",
    "            quote = quote[bracket_start+12:bracket_end]   \n",
    "            \n",
    "        if index == 440:  ## without this gets stuck in infinite loop due to source input error\n",
    "            bracket_start = quote.find('(')\n",
    "            bracket_end = quote.find(']', bracket_start)+1\n",
    "            quote = quote[0:bracket_start] + quote[bracket_end:]\n",
    "\n",
    "        if index == 1213:  ## without this gets stuck in infinite loop due to source input error\n",
    "            bracket_start = quote.find('[')\n",
    "            bracket_end = quote.find(')', bracket_start)+1\n",
    "            quote = quote[0:bracket_start] + quote[bracket_end:]    \n",
    "            \n",
    "        while (('(' in quote) and ('translates' not in quote)):\n",
    "            bracket_start = quote.find('(')\n",
    "            bracket_end = quote.find(')', bracket_start)+1\n",
    "            quote = quote[0:bracket_start] + quote[bracket_end:]\n",
    "\n",
    "        while ('[' in quote):\n",
    "            bracket_start = quote.find('[')\n",
    "            bracket_end = quote.find(']', bracket_start)+1\n",
    "            quote = quote[0:bracket_start] + quote[bracket_end:]\n",
    "            \n",
    "        if ('***' in quote):\n",
    "            bracket_start = quote.find('***')\n",
    "            bracket_end = quote.find('***', bracket_start+3)\n",
    "            quote = quote[0:bracket_start] + quote[bracket_end:]\n",
    "            if ('***' in quote):\n",
    "                quote = quote.replace('***', '')\n",
    "                \n",
    "        if index==1267:\n",
    "            bracket_start = quote.find('...')+3\n",
    "            quote = quote[0:bracket_start]\n",
    "            \n",
    "        if '-dawn' in quote: #for Woltz\n",
    "            quote = quote.replace('-dawn', '')\n",
    "        \n",
    "        new_quote.append(quote.strip())"
   ]
  },
  {
   "cell_type": "code",
   "execution_count": 10,
   "metadata": {},
   "outputs": [],
   "source": [
    "new_name = []\n",
    "for name in df['Role']:\n",
    "    if 'S VOICE' in name.upper():\n",
    "        name = name[:name.find(\"\\'\")]\n",
    "    \n",
    "    if 'CORLEONE' in name.upper():\n",
    "        if '\\'' not in name:\n",
    "            name = name[:-9]\n",
    "            \n",
    "    if \"SITE\" in name:\n",
    "        name = name[name.find(\"SITE\")+4:]\n",
    "    \n",
    "    if \"SEQUENCE\" in name:\n",
    "        name = name[name.find(\"SEQUENCE\")+9:]\n",
    "    \n",
    "    if \"DISSOLVE\" in name:\n",
    "        name = name[name.find(\"DISSOLVE\"):]\n",
    "        \n",
    "        \n",
    "    ####### naming clarifications and/or multiple instances of same person changed to same string    \n",
    "    if \"TATTAGLIA\" == name.strip(): ##gives better clarification to which member of the family\n",
    "        name = \"PHILIP\" + name\n",
    "    \n",
    "    if \"SCREAMS\" == name.strip(): ##script only says screams not who it was\n",
    "        name = \"WOLTZ\"\n",
    "        \n",
    "    if \"GREEN\" in name:\n",
    "        name = name.replace('GREEN', '')\n",
    "        \n",
    "    if \"HAGEN\" in name:\n",
    "        name = \"TOM\"\n",
    "    \n",
    "    if \"BRASI\" in name: \n",
    "        name = \"LUCA\"\n",
    "    \n",
    "    if \"FRANK\"== name.strip(): \n",
    "        name = \"FRANKIE\"\n",
    "    \n",
    "    if \"PAN\" in name.strip(): \n",
    "        name = \"PAN:\"\n",
    "        \n",
    "    if \"OVER\" in name.strip(): \n",
    "        name = name+\":\"\n",
    "        \n",
    "    new_name.append(name.strip())"
   ]
  },
  {
   "cell_type": "code",
   "execution_count": 11,
   "metadata": {},
   "outputs": [],
   "source": [
    "df['Role'] = new_name\n",
    "df['Line'] = new_quote"
   ]
  },
  {
   "cell_type": "code",
   "execution_count": 12,
   "metadata": {},
   "outputs": [],
   "source": [
    "to_drop = [index for index, x in enumerate(df['Role']) if ('NOT TO' in x) | ('COPYRIGHT' in x)]\n",
    "df = df.drop(index = to_drop).reset_index(drop=True)"
   ]
  },
  {
   "cell_type": "code",
   "execution_count": 13,
   "metadata": {},
   "outputs": [],
   "source": [
    "with open('cleaned_godfather.json', 'w') as myfile:\n",
    "    myfile.write(df.to_json(orient = 'values'))\n",
    "    myfile.close()"
   ]
  }
 ],
 "metadata": {
  "kernelspec": {
   "display_name": "Python 3",
   "language": "python",
   "name": "python3"
  },
  "language_info": {
   "codemirror_mode": {
    "name": "ipython",
    "version": 3
   },
   "file_extension": ".py",
   "mimetype": "text/x-python",
   "name": "python",
   "nbconvert_exporter": "python",
   "pygments_lexer": "ipython3",
   "version": "3.6.2"
  }
 },
 "nbformat": 4,
 "nbformat_minor": 2
}
