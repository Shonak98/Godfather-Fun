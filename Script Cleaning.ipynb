{
 "cells": [
  {
   "cell_type": "code",
   "execution_count": 1,
   "metadata": {},
   "outputs": [],
   "source": [
    "### general cleaning\n",
    "import numpy as np\n",
    "import pandas as pd\n",
    "import re\n",
    "\n",
    "### Used to pull script from url\n",
    "from bs4 import BeautifulSoup\n",
    "import requests\n",
    "import json"
   ]
  },
  {
   "cell_type": "code",
   "execution_count": 2,
   "metadata": {},
   "outputs": [],
   "source": [
    "### url of godfather 1\n",
    "url_gf1 = \"http://www.thegodfathertrilogy.com/gf1/transcript/gf1transcript.html\"\n",
    "page_source = requests.get(url_gf1) ### get page's contents\n",
    "page_soup = BeautifulSoup(page_source.content, 'html.parser')"
   ]
  },
  {
   "cell_type": "code",
   "execution_count": 3,
   "metadata": {},
   "outputs": [],
   "source": [
    "### goes through the html contents and finds blockquote markers that indicate script text\n",
    "text_block = page_soup.findAll('blockquote', class_ = '')\n",
    "text_lst = []\n",
    "for item in text_block:\n",
    "    text_lst = item.text.split('\\n')\n",
    "\n",
    "text_lst = [x for x in text_lst if x != ''] #gets rid of empty string elements"
   ]
  },
  {
   "cell_type": "code",
   "execution_count": null,
   "metadata": {},
   "outputs": [],
   "source": []
  },
  {
   "cell_type": "code",
   "execution_count": 24,
   "metadata": {},
   "outputs": [],
   "source": [
    "# transcript_lst = text_lst[1:-14] #starting from 1 to -14 w/ \\n in split\n",
    "# joined = ' '.join(transcript_lst) #spaces between joined parts of arrays\n",
    "# joined = joined.replace('  ', ' ') #replaces double space with single\n",
    "\n",
    "# split_joined = joined.split()"
   ]
  },
  {
   "cell_type": "code",
   "execution_count": 4,
   "metadata": {},
   "outputs": [
    {
     "data": {
      "text/plain": [
       "[\"BONASERA (seated in front of the Don's desk, facing the camera)\",\n",
       " 'I believe in America. America has made my fortune. And I raised my daughter in the ',\n",
       " 'American fashion. I gave her freedom, but -- I taught her never to dishonor her family. She ',\n",
       " 'found a boyfriend; not an Italian. She went to the movies with him; she stayed out late. I ',\n",
       " \"didn't protest. Two months ago, he took her for a drive, with another boyfriend. They made \",\n",
       " 'her drink whiskey. And then they tried to take advantage of her. She resisted. She kept her ',\n",
       " \"honor. So they beat her, like an animal. When I went to the hospital, her nose was a'broken. \",\n",
       " \"Her jaw was a'shattered, held together by wire. She couldn't even weep because of the pain. \",\n",
       " 'But I wept. Why did I weep? She was the light of my life -- beautiful girl. Now she will ',\n",
       " 'never be beautiful again.',\n",
       " '[Bonasera breaks down. The Don gestures to Sonny to give Bonasera a drink]',\n",
       " 'Sorry...',\n",
       " '[Bonasera, taking the drink, sips from the shot glass]',\n",
       " 'I -- I went to the police, like a good American. These two boys were brought to trial. The ',\n",
       " 'judge sentenced them to three years in prison -- suspended sentence. Suspended sentence! ',\n",
       " 'They went free that very day! I stood in the courtroom like a fool. And those two bastard, ',\n",
       " 'they smiled at me. Then I said to my wife, \"for justice, we must go to Don Corleone.\"',\n",
       " 'VITO CORLEONE (sitting behind his desk, petting a cat)',\n",
       " \"Why did you go to the police? Why didn't you come to me first?\",\n",
       " 'BONASERA',\n",
       " 'What do you want of me? Tell me anything. But do what I beg you to do.',\n",
       " 'VITO CORLEONE',\n",
       " 'What is that?',\n",
       " \"[Bonasera gets up to whisper his request into Don Corleone's ear]\",\n",
       " 'That I cannot do. ',\n",
       " 'BONASERA',\n",
       " \"I'll give you anything you ask.\",\n",
       " 'VITO CORLEONE',\n",
       " \"We've known each other many years, but this is the first time you came to me for counsel, \",\n",
       " \"for help.  I can't remember the last time that you invited me to your house for a cup of \",\n",
       " \"coffee, even though my wife is godmother to your only child. But let's be frank here: you \",\n",
       " 'never wanted my friendship. And uh, you were afraid to be in my debt.',\n",
       " 'BONASERA',\n",
       " \"I didn't want to get into trouble.\",\n",
       " 'VITO CORLEONE',\n",
       " 'I understand. You found paradise in America, had a good trade, made a good living. The ',\n",
       " \"police protected you; and there were courts of law. And you didn't need a friend of me. But \",\n",
       " 'uh, now you come to me and you say -- \"Don Corleone give me justice.\" -- But you don\\'t ask ',\n",
       " \"with respect. You don't offer friendship. You don't even think to call me Godfather. Instead, \",\n",
       " 'you come into my house on the day my daughter is to be married, and you uh ask me to do ',\n",
       " 'murder, for money.',\n",
       " 'BONASERA',\n",
       " 'I ask you for justice.',\n",
       " 'VITO CORLEONE',\n",
       " 'That is not justice; your daughter is still alive.',\n",
       " 'BONASERA',\n",
       " 'Then they can suffer then, as she suffers. ',\n",
       " '(then)',\n",
       " 'How much shall I pay you?',\n",
       " 'VITO CORLEONE (stands, turning his back toward Bonasera)',\n",
       " 'Bonasera... Bonasera... What have I ever done to make you treat me so disrespectfully? Had ',\n",
       " 'you come to me in friendship, then this scum that ruined your daughter would be suffering ',\n",
       " 'this very day.  And that by chance if an honest man such as yourself should make enemies, ',\n",
       " 'then they would become my enemies.  And then they would fear you.',\n",
       " 'BONASERA',\n",
       " 'Be my friend --',\n",
       " '(then, after bowing and the Don shrugs)',\n",
       " '-- Godfather?',\n",
       " 'VITO CORLEONE (after Bonasera kisses his hand)',\n",
       " 'Good.',\n",
       " '(then)',\n",
       " \"Some day, and that day may never come, I'll call upon you to do a service for me. But uh, \",\n",
       " \"until that day -- accept this justice as a gift on my daughter's wedding day.\",\n",
       " 'BONASERA (as he leaves the room)',\n",
       " 'Grazie, Godfather.',\n",
       " 'VITO CORLEONE',\n",
       " 'Prego.',\n",
       " '(then, to Tom Hagen, after Bonasera leaves the room)',\n",
       " \"Ah, give this to ah, Clemenza. I want reliable people; people that aren't gonna be carried \",\n",
       " \"away. I'm  mean, we're not murderers, despite of what this undertaker says.\",\n",
       " 'CUT TO: Connie\\'s Wedding reception. We hear the music \"Connie\\'s Wedding (The ',\n",
       " 'Godfather Tarantella)\" -day',\n",
       " 'CUT TO: Connie and Carlo at the head table',\n",
       " 'CUT TO: The family gathers for a family portrait',\n",
       " 'VITO CORLEONE (to Sonny)',\n",
       " \"Where's Michael?\",\n",
       " 'SONNY CORLEONE',\n",
       " \"Don't worry; it's early.\",\n",
       " 'VITO CORLEONE',\n",
       " \"We're not taking the picture without Michael\",\n",
       " '(then, he tells the photographer, in Italian)',\n",
       " 'TOM HAGEN',\n",
       " \"What's the matter, Sonny?\",\n",
       " 'SONNY CORLEONE',\n",
       " \"It's Michael\",\n",
       " 'CUT TO: The Don meeting some guests outside',\n",
       " \"CUT TO: Mama dancing with Sonny's twin girls\",\n",
       " 'CUT TO: Connie and Carlo laughing with guests at head table',\n",
       " 'CUT TO: Long shot of guests dancing',\n",
       " 'CUT TO: FBI arrive at entrance',\n",
       " 'CUT TO: Clemenza dancing with his wife',\n",
       " 'CUT TO: FBI take license plate numbers',\n",
       " 'CUT TO: Tessio sitting at a table with Carmella & twins, tossing himself an orange',\n",
       " 'CUT TO: FBI continuing to take license plate numbers',\n",
       " 'CUT TO: Don Barzini arrives',\n",
       " 'VITO CORLEONE',\n",
       " 'Eh, Don Barzini.',\n",
       " '(then, Vito introduces Barzini to someone, in Italian)',\n",
       " 'CUT TO: Clemenza is dancing, gets tired, and spins off the dancefloor, laughing.',\n",
       " 'CLEMENZA (after dancing)']"
      ]
     },
     "execution_count": 4,
     "metadata": {},
     "output_type": "execute_result"
    }
   ],
   "source": [
    "smaller = text_lst[1:101]\n",
    "smaller"
   ]
  },
  {
   "cell_type": "code",
   "execution_count": null,
   "metadata": {},
   "outputs": [],
   "source": []
  }
 ],
 "metadata": {
  "kernelspec": {
   "display_name": "Python 3",
   "language": "python",
   "name": "python3"
  },
  "language_info": {
   "codemirror_mode": {
    "name": "ipython",
    "version": 3
   },
   "file_extension": ".py",
   "mimetype": "text/x-python",
   "name": "python",
   "nbconvert_exporter": "python",
   "pygments_lexer": "ipython3",
   "version": "3.6.2"
  }
 },
 "nbformat": 4,
 "nbformat_minor": 2
}
